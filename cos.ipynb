{
 "cells": [
  {
   "cell_type": "code",
   "execution_count": 145,
   "metadata": {},
   "outputs": [],
   "source": [
    "from sentence_transformers import SentenceTransformer, util\n",
    "model = SentenceTransformer('sentence-transformers/all-mpnet-base-v2')"
   ]
  },
  {
   "cell_type": "code",
   "execution_count": 49,
   "metadata": {},
   "outputs": [],
   "source": [
    "def calculate_relevance_scores(sentences, keyword):\n",
    "    # Load pre-trained sentence transformer model\n",
    "\n",
    "    # Encode keyword once for efficiency\n",
    "    keyword_embedding = model.encode(keyword, convert_to_tensor=True)\n",
    "\n",
    "    # Encode all sentences\n",
    "    sentence_embeddings = model.encode(sentences, convert_to_tensor=True)\n",
    "\n",
    "    # Calculate cosine similarity scores for all sentences\n",
    "    cosine_scores = util.pytorch_cos_sim(sentence_embeddings, keyword_embedding)\n",
    "\n",
    "    # Convert PyTorch tensor to a list of scores\n",
    "    relevance_scores = cosine_scores.cpu().numpy().tolist()[0][0]\n",
    "    return relevance_scores"
   ]
  },
  {
   "cell_type": "code",
   "execution_count": 50,
   "metadata": {},
   "outputs": [],
   "source": [
    "# Here, each bullet point in an experience is listed as separate sentence\n",
    "\n",
    "# E1: sw dev\n",
    "E1 = [\n",
    "    \"Led the development of a service that provides automated pen-testing to internalfront-office facing teams while managing and mentoring 3 pen-testers (Python,Java Spring Boot,Angular JS, OracleDB).\",\n",
    "    \"Developed a web application that orchestrates vendor vulnerability scanners to scan over 100,000 cloud and hardware infrastructure within the firm, while also providing metrics via an API and UI (Java, Spring Boot,Angular JS, OracleDB).\",\n",
    "    \"Led the analyst peer mentoring committee for Jersey City by conducting event planning, budget analysis,mentor and mentee pairing, and mentor training for over 200 analysts.\"\n",
    "    ]\n",
    "\n",
    "# E2: full-stack dev\n",
    "E2 = [\n",
    "    \"Carried out the application development using Javascript, Jquery, and also modern frameworks including Vue.js React and SASS.\",\n",
    "    \"Implemented a translation resource (i18n) in insurance service and the creation of HTTP routes in RESTFUL APIs in C # .NET.\",\n",
    "    \"Carried out the development of tools using map services (Open Layers).\",\n",
    "    \"Carried out the development of tools that facilitate the creation of queries at the first user-level and the developer level\"\n",
    "    ]\n",
    "\n",
    "# E3: ML researcher\n",
    "E3 = [\n",
    "    \"Led a research team solving major bulk US power grid problems using real, large-scale Synchrophasor data.\",\n",
    "    \"Created a model to generate realistic synthetic anomaly data increasing data availability by at least 200% and a model to classify anomaly signatures achieving an F1 score of 97%.\",\n",
    "    \"Created a system that automatically identified and categorized unprecedented anomaly labels with 96% accuracy.\",\n",
    "    \"Created an online method to replace missing values during volatile anomalies while keeping errors 10%.\",\n",
    "    \"Created two methods (for two use cases) to detect the start of an anomaly. Both methods achieve F1 scores of at least 95%.\"\n",
    "    ]\n",
    "\n",
    "# E4: Dental Assistant\n",
    "E4 = [\n",
    "    \"Assisted the dentist during a variety of treatment procedures, took dental radiographs (x-rays) and sterilized instruments and equipment.\",\n",
    "    \"Provided patients with instructions for oral care following all dental treatment procedures and educated patients on appropriate oral hygiene strategies to maintain oral health.\"\n",
    "    ]\n",
    "\n",
    "# E5: Robotics Engineer\n",
    "E5 = [\n",
    "    \"Involved in building robotic actuation and sensing with the accuracy of 99.72%.\",\n",
    "    \"Built robotic vehicles and manipulators for national defense purpose.\",\n",
    "    \"Collaborated Robotics Modeling and Simulation, Robotic Systems Estimation, and Robotic Mobility for 6 months.\"\n",
    "    ]\n",
    "Es = [E1, E2, E3, E4, E5]"
   ]
  },
  {
   "cell_type": "code",
   "execution_count": 237,
   "metadata": {},
   "outputs": [
    {
     "name": "stdout",
     "output_type": "stream",
     "text": [
      "Improved students' understanding of difficult concepts by demonstrating solutions to problems in R during office hours.\n",
      "Answered students' questions on class forum by providing in-depth mathematical explanations written in LaTeX.\n",
      "Identified and reported errors on PrairieLearn homework assignments before assigned to students.\n",
      "Interned under mathematics professor Dr. Andy Kim to create Beat Saber levels for Mini songs for demonstration during UIUC events such as LAS Liftoff.\n",
      "Developed a C++ program that calculated various stats of beatmaps such as average note jump distance per second to provide a more holistic measure of level difficulty in comparison to notes per second {NPS}.\n",
      "Used Unity and Blender to create models for game mods that visually change the VR environment in Beat Saber.\n",
      "Wrote significant amount of documentation on creating beatmaps with Mediocre Mapper and installing mods on Oculus devices to help future interns learn required technologies faster.\n",
      "Performed hands-on research alongside undergraduate and graduate students.\n",
      "Investigated the existence of an ovarian cancer stern cell (CSC) — specific biomarker to distinguish CSCs from bulk cancer.\n",
      "Incubated cancer cells, created media solutions in fume hoods, and analyzed visual results using the OpenCFU software tool.\n",
      "Conducted anti -CD44 immunocytochemistry on ovarian CSCs and bulk cancer cells to compare degrees of expression of CD44 biomarker.\n"
     ]
    }
   ],
   "source": [
    "# medical industry keyword\n",
    "# keyword = \"serverless\"\n",
    "\n",
    "#tech industry keyword\n",
    "keyword = \"programming\"\n",
    "\n",
    "scores = []\n",
    "for E in exps:\n",
    "  score = 0\n",
    "  for sent in E:\n",
    "    print(sent, calculate_relevance_scores(sent, keyword))\n",
    "    score += calculate_relevance_scores(sent, keyword)\n",
    "  scores.append(score/len(E))"
   ]
  },
  {
   "cell_type": "code",
   "execution_count": 236,
   "metadata": {},
   "outputs": [
    {
     "name": "stdout",
     "output_type": "stream",
     "text": [
      "[[\"Improved students' understanding of difficult concepts by demonstrating solutions to problems in R during office hours.\", \"Answered students' questions on class forum by providing in-depth mathematical explanations written in LaTeX.\", 'Identified and reported errors on PrairieLearn homework assignments before assigned to students.'], ['Interned under mathematics professor Dr. Andy Kim to create Beat Saber levels for Mini songs for demonstration during UIUC events such as LAS Liftoff.', 'Developed a C++ program that calculated various stats of beatmaps such as average note jump distance per second to provide a more holistic measure of level difficulty in comparison to notes per second {NPS}.', 'Used Unity and Blender to create models for game mods that visually change the VR environment in Beat Saber.', 'Wrote significant amount of documentation on creating beatmaps with Mediocre Mapper and installing mods on Oculus devices to help future interns learn required technologies faster.'], ['Performed hands-on research alongside undergraduate and graduate students.', 'Investigated the existence of an ovarian cancer stern cell (CSC) — specific biomarker to distinguish CSCs from bulk cancer.', 'Incubated cancer cells, created media solutions in fume hoods, and analyzed visual results using the OpenCFU software tool.', 'Conducted anti -CD44 immunocytochemistry on ovarian CSCs and bulk cancer cells to compare degrees of expression of CD44 biomarker.']]\n",
      "[0.2705771078666051, 0.2795167714357376, 0.03604459762573242]\n",
      "E1 is the most relevant sentence to the keyword *programming*\n"
     ]
    }
   ],
   "source": [
    "print(exps)\n",
    "print(scores)\n",
    "print(f\"E{scores.index(max(scores))} is the most relevant sentence to the keyword *{keyword}*\")"
   ]
  },
  {
   "cell_type": "code",
   "execution_count": 1,
   "metadata": {},
   "outputs": [],
   "source": [
    "def calculate_relevance_scores(sentences, keyword):\n",
    "    # Load pre-trained sentence transformer model\n",
    "\n",
    "    # Encode keyword once for efficiency\n",
    "    keyword_embedding = model.encode(keyword, convert_to_tensor=True)\n",
    "\n",
    "    # Encode all sentences\n",
    "    sentence_embeddings = model.encode(sentences, convert_to_tensor=True)\n",
    "\n",
    "    # Calculate cosine similarity scores for all sentences\n",
    "    cosine_scores = util.pytorch_cos_sim(sentence_embeddings, keyword_embedding)\n",
    "\n",
    "    # Convert PyTorch tensor to a list of scores\n",
    "    relevance_scores = cosine_scores.cpu().numpy().tolist()[0][0]\n",
    "    return relevance_scores"
   ]
  },
  {
   "cell_type": "code",
   "execution_count": 55,
   "metadata": {},
   "outputs": [],
   "source": [
    "# # Here, each bullet point in an experience is listed as separate sentences\n",
    "# # E1: sw dev\n",
    "# E1 = [\n",
    "#     \"Led the development of a service that provides automated pen-testing to internalfront-office facing teams while managing and mentoring 3 pen-testers (Python,Java Spring Boot,Angular JS, OracleDB).\",\n",
    "#     \"Developed a web application that orchestrates vendor vulnerability scanners to scan over 100,000 cloud and hardware infrastructure within the firm, while also providing metrics via an API and UI (Java, Spring Boot,Angular JS, OracleDB).\",\n",
    "#     \"Led the analyst peer mentoring committee for Jersey City by conducting event planning, budget analysis,mentor and mentee pairing, and mentor training for over 200 analysts.\"\n",
    "#     ]\n",
    "\n",
    "# # E2: full-stack dev\n",
    "# E2 = [\n",
    "#     \"Carried out the application development using Javascript, Jquery, and also modern frameworks including Vue.js React and SASS.\",\n",
    "#     \"Implemented a translation resource (i18n) in insurance service and the creation of HTTP routes in RESTFUL APIs in C # .NET.\",\n",
    "#     \"Carried out the development of tools using map services (Open Layers).\",\n",
    "#     \"Carried out the development of tools that facilitate the creation of queries at the first user-level and the developer level\"\n",
    "#     ]\n",
    "\n",
    "# # E3: ML researcher\n",
    "# E3 = [\n",
    "#     \"Led a research team solving major bulk US power grid problems using real, large-scale Synchrophasor data.\",\n",
    "#     \"Created a model to generate realistic synthetic anomaly data increasing data availability by at least 200% and a model to classify anomaly signatures achieving an F1 score of 97%.\",\n",
    "#     \"Created a system that automatically identified and categorized unprecedented anomaly labels with 96% accuracy.\",\n",
    "#     \"Created an online method to replace missing values during volatile anomalies while keeping errors 10%.\",\n",
    "#     \"Created two methods (for two use cases) to detect the start of an anomaly. Both methods achieve F1 scores of at least 95%.\"\n",
    "#     ]\n",
    "\n",
    "# # E4: Dental Assistant\n",
    "# E4 = [\n",
    "#     \"Assisted the dentist during a variety of treatment procedures, took dental radiographs (x-rays) and sterilized instruments and equipment.\",\n",
    "#     \"Provided patients with instructions for oral care following all dental treatment procedures and educated patients on appropriate oral hygiene strategies to maintain oral health.\"\n",
    "#     ]\n",
    "\n",
    "# # E5: Robotics Engineer\n",
    "# E5 = [\n",
    "#     \"Involved in building robotic actuation and sensing with the accuracy of 99.72%.\",\n",
    "#     \"Built robotic vehicles and manipulators for national defense purpose.\",\n",
    "#     \"Collaborated Robotics Modeling and Simulation, Robotic Systems Estimation, and Robotic Mobility for 6 months.\"\n",
    "#     ]\n",
    "# Es = [E1, E2, E3, E4, E5]\n",
    "\n",
    "# # medical industry keyword\n",
    "# keyword = \"serverless\"\n",
    "\n",
    "# #tech industry keyword\n",
    "# # keyword = \"Artificial Intelligence\"\n",
    "\n",
    "# def get_score(keyword):\n",
    "#     scores = []\n",
    "#     for E in Es:\n",
    "#         score = 0\n",
    "#         for sent in E:\n",
    "#             score += calculate_relevance_scores(sent, keyword)\n",
    "#         scores.append(score/len(E))\n",
    "#     print(scores)\n",
    "#     print(f\"E{scores.index(max(scores))+1} is the most relevant sentence to the keyword *{keyword}*\")\n",
    "\n",
    "# if __name__ == \"__main__\":\n",
    "#     start = time.time()\n",
    "#     get_score(keyword)\n",
    "#     end = time.time()\n",
    "#     print(f\"Time taken: {end-start} seconds\")"
   ]
  },
  {
   "cell_type": "code",
   "execution_count": 15,
   "metadata": {},
   "outputs": [],
   "source": [
    "def parse2json(text):\n",
    "    keyword_line, text = text.split(\"\\n\", 1)\n",
    "    keyword = keyword_line.split(\"keyword: \")[1]\n",
    "\n",
    "    text = text.split(\"\\n\\n\")\n",
    "    paragraphs = []\n",
    "    for para in text:\n",
    "        sents = para.split(\".\")\n",
    "        paragraphs.append(sents)\n",
    "        paragraphs.append(\"\\n\")\n",
    "    json_fmt = {\n",
    "        'keywrord' : keyword,\n",
    "        'Experiences' : paragraphs\n",
    "    }\n",
    "    return json_fmt"
   ]
  },
  {
   "cell_type": "code",
   "execution_count": 16,
   "metadata": {},
   "outputs": [],
   "source": [
    "text = \"\"\"keyword: Artificial Intelligence\n",
    "• Monitored vital signs and other health parameters of patients in the post-operative care unit and intervenes as necessary to ensure patient safety.\n",
    "• Observed patients for signs and symptoms of complications and provides appropriate intervention and provided instruction and supported patients and families regarding post-operative care.\n",
    "• Documented patient care in accordance with established standards per policy, actively participated in Unit Council meetings, and promoted change within the department to improve overall workflow and patient care and satisfaction.\n",
    "• Acted as a resource to newer nurses within the department and assist with charge nurse responsibilities on the evening shift where necessary.\n",
    "\n",
    "• Leveraged task management and prioritization skills to deliver compassionate and patient-centered care.\n",
    "• Closely monitored patients with complex cardiac issues, alongside another comorbidity, while recording findings and reporting changes.\n",
    "• Partnered effectively with an interdisciplinary team to provide efficient and optimal patient care solutions.\n",
    "• Enacted multiple nursing duties as ordered or needed, including dressing wounds, administering medications, and monitoring post-procedure patient status.\n",
    "• Accountable for administering and monitoring several different types of cardiac drips and contributed to the active education of patients and their family members in association with care planning, medications, and illnesses.\"\"\""
   ]
  },
  {
   "cell_type": "code",
   "execution_count": 32,
   "metadata": {},
   "outputs": [
    {
     "data": {
      "text/plain": [
       "'{\"keywrord\": \"Artificial Intelligence\", \"Experiences\": [[\"\\\\u2022 Monitored vital signs and other health parameters of patients in the post-operative care unit and intervenes as necessary to ensure patient safety\", \"\\\\n\\\\u2022 Observed patients for signs and symptoms of complications and provides appropriate intervention and provided instruction and supported patients and families regarding post-operative care\", \"\\\\n\\\\u2022 Documented patient care in accordance with established standards per policy, actively participated in Unit Council meetings, and promoted change within the department to improve overall workflow and patient care and satisfaction\", \"\\\\n\\\\u2022 Acted as a resource to newer nurses within the department and assist with charge nurse responsibilities on the evening shift where necessary\", \"\"], \"\\\\n\", [\"\\\\u2022 Leveraged task management and prioritization skills to deliver compassionate and patient-centered care\", \"\\\\n\\\\u2022 Closely monitored patients with complex cardiac issues, alongside another comorbidity, while recording findings and reporting changes\", \"\\\\n\\\\u2022 Partnered effectively with an interdisciplinary team to provide efficient and optimal patient care solutions\", \"\\\\n\\\\u2022 Enacted multiple nursing duties as ordered or needed, including dressing wounds, administering medications, and monitoring post-procedure patient status\", \"\\\\n\\\\u2022 Accountable for administering and monitoring several different types of cardiac drips and contributed to the active education of patients and their family members in association with care planning, medications, and illnesses\", \"\"], \"\\\\n\"]}'"
      ]
     },
     "execution_count": 32,
     "metadata": {},
     "output_type": "execute_result"
    }
   ],
   "source": [
    "import json\n",
    "json.dumps(parse2json(text))"
   ]
  },
  {
   "cell_type": "code",
   "execution_count": 116,
   "metadata": {},
   "outputs": [],
   "source": [
    "import json\n",
    "\n",
    "def format_experience_to_json(text):\n",
    "    keyword_line, text = text.split(\"\\n\", 1)\n",
    "    keyword = keyword_line.split(\"keyword: \")[1]\n",
    "    paras = text.split(\"\\n\\n\")\n",
    "    exps = [para.split('\\n') for para in paras]\n",
    "\n",
    "    for i in range(len(exps)):\n",
    "        for j in range(len(exps[i])):\n",
    "            exps[i][j] = exps[i][j].replace(\"• \", \"\")\n",
    "\n",
    "    # Create the JSON structure\n",
    "    formatted_json = {\n",
    "        'keyword': keyword,\n",
    "        'Experiences': exps\n",
    "    }\n",
    "\n",
    "    return json.dumps(formatted_json, indent=2)"
   ]
  },
  {
   "cell_type": "code",
   "execution_count": 208,
   "metadata": {},
   "outputs": [],
   "source": [
    "text = \"\"\"keyword: Performed hands-on research alongside undergraduate and graduate students.\n",
    "• Improved students' understanding of difficult concepts by demonstrating solutions to problems in R during office hours.\n",
    "• Answered students' questions on class forum by providing in-depth mathematical explanations written in LaTeX.\n",
    "• Identified and reported errors on PrairieLearn homework assignments before assigned to students.\n",
    "\n",
    "• Interned under mathematics professor Dr. Andy Kim to create Beat Saber levels for Mini songs for demonstration during UIUC events such as LAS Liftoff.\n",
    "• Developed a C++ program that calculated various stats of beatmaps such as average note jump distance per second to provide a more holistic measure of level difficulty in comparison to notes per second {NPS}.\n",
    "• Used Unity and Blender to create models for game mods that visually change the VR environment in Beat Saber.\n",
    "• Wrote significant amount of documentation on creating beatmaps with Mediocre Mapper and installing mods on Oculus devices to help future interns learn required technologies faster.\n",
    "\n",
    "• Performed hands-on research alongside undergraduate and graduate students.\n",
    "• Investigated the existence of an ovarian cancer stern cell (CSC) — specific biomarker to distinguish CSCs from bulk cancer.\n",
    "• Incubated cancer cells, created media solutions in fume hoods, and analyzed visual results using the OpenCFU software tool.\n",
    "• Conducted anti -CD44 immunocytochemistry on ovarian CSCs and bulk cancer cells to compare degrees of expression of CD44 biomarker.\"\"\""
   ]
  },
  {
   "cell_type": "code",
   "execution_count": 209,
   "metadata": {},
   "outputs": [],
   "source": [
    "exps = format_experience_to_json(text)"
   ]
  },
  {
   "cell_type": "code",
   "execution_count": 210,
   "metadata": {},
   "outputs": [
    {
     "data": {
      "text/plain": [
       "'{\\n  \"keyword\": \"Performed hands-on research alongside undergraduate and graduate students.\",\\n  \"Experiences\": [\\n    [\\n      \"Improved students\\' understanding of difficult concepts by demonstrating solutions to problems in R during office hours.\",\\n      \"Answered students\\' questions on class forum by providing in-depth mathematical explanations written in LaTeX.\",\\n      \"Identified and reported errors on PrairieLearn homework assignments before assigned to students.\"\\n    ],\\n    [\\n      \"Interned under mathematics professor Dr. Andy Kim to create Beat Saber levels for Mini songs for demonstration during UIUC events such as LAS Liftoff.\",\\n      \"Developed a C++ program that calculated various stats of beatmaps such as average note jump distance per second to provide a more holistic measure of level difficulty in comparison to notes per second {NPS}.\",\\n      \"Used Unity and Blender to create models for game mods that visually change the VR environment in Beat Saber.\",\\n      \"Wrote significant amount of documentation on creating beatmaps with Mediocre Mapper and installing mods on Oculus devices to help future interns learn required technologies faster.\"\\n    ],\\n    [\\n      \"Performed hands-on research alongside undergraduate and graduate students.\",\\n      \"Investigated the existence of an ovarian cancer stern cell (CSC) \\\\u2014 specific biomarker to distinguish CSCs from bulk cancer.\",\\n      \"Incubated cancer cells, created media solutions in fume hoods, and analyzed visual results using the OpenCFU software tool.\",\\n      \"Conducted anti -CD44 immunocytochemistry on ovarian CSCs and bulk cancer cells to compare degrees of expression of CD44 biomarker.\"\\n    ]\\n  ]\\n}'"
      ]
     },
     "execution_count": 210,
     "metadata": {},
     "output_type": "execute_result"
    }
   ],
   "source": [
    "exps"
   ]
  },
  {
   "cell_type": "code",
   "execution_count": 180,
   "metadata": {},
   "outputs": [],
   "source": [
    "text = \"\"\"keyword: Developer\n",
    "• Leveraged task management and prioritization skills to deliver compassionate and patient-centered care.\n",
    "• Closely monitored patients with complex cardiac issues, alongside another comorbidity, while recording findings and reporting changes.\n",
    "• Partnered effectively with an interdisciplinary team to provide efficient and optimal patient care solutions.\n",
    "• Enacted multiple nursing duties as ordered or needed, including dressing wounds, administering medications, and monitoring post-procedure patient status.\n",
    "• Accountable for administering and monitoring several different types of cardiac drips and contributed to the active education of patients and their family members in association with care planning, medications, and illnesses.\n",
    "\n",
    "• Fulfilled patient care functions within the scope of competency, and considered the age-related needs of patients as prescribed by physicians or health care professionals.\n",
    "• Complied with established protocols, policies, and procedures and employed task management and prioritization skills to deliver compassionate care.\n",
    "• Facilitated medical personnel with special procedures, minor surgical procedures, and/or diagnostic exams, and evaluated and monitored the condition of patients, notifying physicians regarding disposition.\n",
    "\n",
    "• Created a model for topology classification and monitoring achieving 97% Accuracy from training on just 5% of the data.\n",
    "• Developed a method to detect electricity fraud which increases detection rates by a factor of 20.\n",
    "• Developed a model to predict the deaths of power equipment increasing the proportion of correct identifications by 700%.\n",
    "• Performed detailed financial optimization of battery storage systems via their participation in Wholesale Power Markets.\n",
    "• Performed battery storage degradation Modelling and optimization in power markets under degradation and managed a database of smart meter data on a Hadoop cluster.\"\"\""
   ]
  },
  {
   "cell_type": "code",
   "execution_count": 211,
   "metadata": {},
   "outputs": [
    {
     "name": "stdout",
     "output_type": "stream",
     "text": [
      "{\n",
      "  \"keyword\": \"Performed hands-on research alongside undergraduate and graduate students.\",\n",
      "  \"Experiences\": [\n",
      "    [\n",
      "      \"Improved students' understanding of difficult concepts by demonstrating solutions to problems in R during office hours.\",\n",
      "      \"Answered students' questions on class forum by providing in-depth mathematical explanations written in LaTeX.\",\n",
      "      \"Identified and reported errors on PrairieLearn homework assignments before assigned to students.\"\n",
      "    ],\n",
      "    [\n",
      "      \"Interned under mathematics professor Dr. Andy Kim to create Beat Saber levels for Mini songs for demonstration during UIUC events such as LAS Liftoff.\",\n",
      "      \"Developed a C++ program that calculated various stats of beatmaps such as average note jump distance per second to provide a more holistic measure of level difficulty in comparison to notes per second {NPS}.\",\n",
      "      \"Used Unity and Blender to create models for game mods that visually change the VR environment in Beat Saber.\",\n",
      "      \"Wrote significant amount of documentation on creating beatmaps with Mediocre Mapper and installing mods on Oculus devices to help future interns learn required technologies faster.\"\n",
      "    ],\n",
      "    [\n",
      "      \"Performed hands-on research alongside undergraduate and graduate students.\",\n",
      "      \"Investigated the existence of an ovarian cancer stern cell (CSC) \\u2014 specific biomarker to distinguish CSCs from bulk cancer.\",\n",
      "      \"Incubated cancer cells, created media solutions in fume hoods, and analyzed visual results using the OpenCFU software tool.\",\n",
      "      \"Conducted anti -CD44 immunocytochemistry on ovarian CSCs and bulk cancer cells to compare degrees of expression of CD44 biomarker.\"\n",
      "    ]\n",
      "  ]\n",
      "}\n"
     ]
    }
   ],
   "source": [
    "fmt = format_experience_to_json(text)\n",
    "print(fmt)"
   ]
  },
  {
   "cell_type": "code",
   "execution_count": 212,
   "metadata": {},
   "outputs": [
    {
     "data": {
      "text/plain": [
       "[[\"Improved students' understanding of difficult concepts by demonstrating solutions to problems in R during office hours.\",\n",
       "  \"Answered students' questions on class forum by providing in-depth mathematical explanations written in LaTeX.\",\n",
       "  'Identified and reported errors on PrairieLearn homework assignments before assigned to students.'],\n",
       " ['Interned under mathematics professor Dr. Andy Kim to create Beat Saber levels for Mini songs for demonstration during UIUC events such as LAS Liftoff.',\n",
       "  'Developed a C++ program that calculated various stats of beatmaps such as average note jump distance per second to provide a more holistic measure of level difficulty in comparison to notes per second {NPS}.',\n",
       "  'Used Unity and Blender to create models for game mods that visually change the VR environment in Beat Saber.',\n",
       "  'Wrote significant amount of documentation on creating beatmaps with Mediocre Mapper and installing mods on Oculus devices to help future interns learn required technologies faster.'],\n",
       " ['Performed hands-on research alongside undergraduate and graduate students.',\n",
       "  'Investigated the existence of an ovarian cancer stern cell (CSC) — specific biomarker to distinguish CSCs from bulk cancer.',\n",
       "  'Incubated cancer cells, created media solutions in fume hoods, and analyzed visual results using the OpenCFU software tool.',\n",
       "  'Conducted anti -CD44 immunocytochemistry on ovarian CSCs and bulk cancer cells to compare degrees of expression of CD44 biomarker.']]"
      ]
     },
     "execution_count": 212,
     "metadata": {},
     "output_type": "execute_result"
    }
   ],
   "source": [
    "exps = json.loads(fmt)['Experiences']\n",
    "exps"
   ]
  },
  {
   "cell_type": "code",
   "execution_count": 213,
   "metadata": {},
   "outputs": [
    {
     "name": "stdout",
     "output_type": "stream",
     "text": [
      "[\"Improved students' understanding of difficult concepts by demonstrating solutions to problems in R during office hours. Answered students' questions on class forum by providing in-depth mathematical explanations written in LaTeX. Identified and reported errors on PrairieLearn homework assignments before assigned to students.\", 'Interned under mathematics professor Dr. Andy Kim to create Beat Saber levels for Mini songs for demonstration during UIUC events such as LAS Liftoff. Developed a C++ program that calculated various stats of beatmaps such as average note jump distance per second to provide a more holistic measure of level difficulty in comparison to notes per second {NPS}. Used Unity and Blender to create models for game mods that visually change the VR environment in Beat Saber. Wrote significant amount of documentation on creating beatmaps with Mediocre Mapper and installing mods on Oculus devices to help future interns learn required technologies faster.', 'Performed hands-on research alongside undergraduate and graduate students. Investigated the existence of an ovarian cancer stern cell (CSC) — specific biomarker to distinguish CSCs from bulk cancer. Incubated cancer cells, created media solutions in fume hoods, and analyzed visual results using the OpenCFU software tool. Conducted anti -CD44 immunocytochemistry on ovarian CSCs and bulk cancer cells to compare degrees of expression of CD44 biomarker.']\n"
     ]
    }
   ],
   "source": [
    "new_exps = [\" \".join(exp) for exp in exps]\n",
    "print(new_exps)"
   ]
  },
  {
   "cell_type": "code",
   "execution_count": 214,
   "metadata": {},
   "outputs": [
    {
     "data": {
      "text/plain": [
       "[\"Improved students' understanding of difficult concepts by demonstrating solutions to problems in R during office hours. Answered students' questions on class forum by providing in-depth mathematical explanations written in LaTeX. Identified and reported errors on PrairieLearn homework assignments before assigned to students.\",\n",
       " 'Interned under mathematics professor Dr. Andy Kim to create Beat Saber levels for Mini songs for demonstration during UIUC events such as LAS Liftoff. Developed a C++ program that calculated various stats of beatmaps such as average note jump distance per second to provide a more holistic measure of level difficulty in comparison to notes per second {NPS}. Used Unity and Blender to create models for game mods that visually change the VR environment in Beat Saber. Wrote significant amount of documentation on creating beatmaps with Mediocre Mapper and installing mods on Oculus devices to help future interns learn required technologies faster.',\n",
       " 'Performed hands-on research alongside undergraduate and graduate students. Investigated the existence of an ovarian cancer stern cell (CSC) — specific biomarker to distinguish CSCs from bulk cancer. Incubated cancer cells, created media solutions in fume hoods, and analyzed visual results using the OpenCFU software tool. Conducted anti -CD44 immunocytochemistry on ovarian CSCs and bulk cancer cells to compare degrees of expression of CD44 biomarker.']"
      ]
     },
     "execution_count": 214,
     "metadata": {},
     "output_type": "execute_result"
    }
   ],
   "source": [
    "new_exps"
   ]
  },
  {
   "cell_type": "code",
   "execution_count": 217,
   "metadata": {},
   "outputs": [],
   "source": [
    "exp1 = model.encode(new_exps[0], convert_to_tensor=True)\n",
    "exp2 = model.encode(new_exps[1], convert_to_tensor=True)\n",
    "exp3 = model.encode(new_exps[2], convert_to_tensor=True)\n",
    "kw = model.encode(\"Performed hands-on research alongside undergraduate and graduate students.\", convert_to_tensor=True)"
   ]
  },
  {
   "cell_type": "code",
   "execution_count": 218,
   "metadata": {},
   "outputs": [
    {
     "name": "stdout",
     "output_type": "stream",
     "text": [
      "0.41330626606941223\n",
      "0.4602090120315552\n",
      "0.1692444384098053\n"
     ]
    }
   ],
   "source": [
    "cosine_scores1 = util.pytorch_cos_sim(exp1, kw)\n",
    "cosine_scores2 = util.pytorch_cos_sim(exp2, kw)\n",
    "cosine_scores3 = util.pytorch_cos_sim(exp3, kw)\n",
    "\n",
    "# Convert PyTorch tensor to a list of scores\n",
    "relevance_scores1 = cosine_scores1.cpu().numpy().tolist()[0][0]\n",
    "relevance_scores2 = cosine_scores2.cpu().numpy().tolist()[0][0]\n",
    "relevance_scores3 = cosine_scores3.cpu().numpy().tolist()[0][0]\n",
    "\n",
    "print(relevance_scores1)\n",
    "print(relevance_scores2)\n",
    "print(relevance_scores3)"
   ]
  },
  {
   "cell_type": "code",
   "execution_count": 187,
   "metadata": {},
   "outputs": [
    {
     "data": {
      "text/plain": [
       "0.1432468295097351"
      ]
     },
     "execution_count": 187,
     "metadata": {},
     "output_type": "execute_result"
    }
   ],
   "source": [
    "cosine_scores = util.pytorch_cos_sim(exp2, kw)\n",
    "\n",
    "# Convert PyTorch tensor to a list of scores\n",
    "relevance_scores = cosine_scores.cpu().numpy().tolist()[0][0]\n",
    "relevance_scores"
   ]
  },
  {
   "cell_type": "code",
   "execution_count": 9,
   "metadata": {},
   "outputs": [
    {
     "ename": "DefaultCredentialsError",
     "evalue": "Your default credentials were not found. To set up Application Default Credentials, see https://cloud.google.com/docs/authentication/external/set-up-adc for more information.",
     "output_type": "error",
     "traceback": [
      "\u001b[0;31m---------------------------------------------------------------------------\u001b[0m",
      "\u001b[0;31mDefaultCredentialsError\u001b[0m                   Traceback (most recent call last)",
      "\u001b[1;32m/Users/tashi/Desktop/REZI/exp_key_relevance/cos.ipynb Cell 23\u001b[0m line \u001b[0;36m2\n\u001b[1;32m     <a href='vscode-notebook-cell:/Users/tashi/Desktop/REZI/exp_key_relevance/cos.ipynb#X31sZmlsZQ%3D%3D?line=23'>24</a>\u001b[0m     \u001b[39mreturn\u001b[39;00m model\n\u001b[1;32m     <a href='vscode-notebook-cell:/Users/tashi/Desktop/REZI/exp_key_relevance/cos.ipynb#X31sZmlsZQ%3D%3D?line=25'>26</a>\u001b[0m \u001b[39m# Example usage\u001b[39;00m\n\u001b[0;32m---> <a href='vscode-notebook-cell:/Users/tashi/Desktop/REZI/exp_key_relevance/cos.ipynb#X31sZmlsZQ%3D%3D?line=26'>27</a>\u001b[0m loaded_model \u001b[39m=\u001b[39m load_model_from_gcs(\u001b[39m\"\u001b[39;49m\u001b[39myour-gcs-bucket\u001b[39;49m\u001b[39m\"\u001b[39;49m, \u001b[39m\"\u001b[39;49m\u001b[39myour-model-path\u001b[39;49m\u001b[39m\"\u001b[39;49m)\n",
      "\u001b[1;32m/Users/tashi/Desktop/REZI/exp_key_relevance/cos.ipynb Cell 23\u001b[0m line \u001b[0;36m7\n\u001b[1;32m      <a href='vscode-notebook-cell:/Users/tashi/Desktop/REZI/exp_key_relevance/cos.ipynb#X31sZmlsZQ%3D%3D?line=4'>5</a>\u001b[0m \u001b[39mdef\u001b[39;00m \u001b[39mload_model_from_gcs\u001b[39m(gcs_bucket, gcs_model_path):\n\u001b[1;32m      <a href='vscode-notebook-cell:/Users/tashi/Desktop/REZI/exp_key_relevance/cos.ipynb#X31sZmlsZQ%3D%3D?line=5'>6</a>\u001b[0m     \u001b[39m# Set up GCS client\u001b[39;00m\n\u001b[0;32m----> <a href='vscode-notebook-cell:/Users/tashi/Desktop/REZI/exp_key_relevance/cos.ipynb#X31sZmlsZQ%3D%3D?line=6'>7</a>\u001b[0m     client \u001b[39m=\u001b[39m storage\u001b[39m.\u001b[39;49mClient()\n\u001b[1;32m      <a href='vscode-notebook-cell:/Users/tashi/Desktop/REZI/exp_key_relevance/cos.ipynb#X31sZmlsZQ%3D%3D?line=8'>9</a>\u001b[0m     \u001b[39m# Get a reference to the GCS bucket\u001b[39;00m\n\u001b[1;32m     <a href='vscode-notebook-cell:/Users/tashi/Desktop/REZI/exp_key_relevance/cos.ipynb#X31sZmlsZQ%3D%3D?line=9'>10</a>\u001b[0m     bucket \u001b[39m=\u001b[39m client\u001b[39m.\u001b[39mget_bucket(gcs_bucket)\n",
      "File \u001b[0;32m/opt/homebrew/lib/python3.11/site-packages/google/cloud/storage/client.py:172\u001b[0m, in \u001b[0;36mClient.__init__\u001b[0;34m(self, project, credentials, _http, client_info, client_options, use_auth_w_custom_endpoint, extra_headers)\u001b[0m\n\u001b[1;32m    169\u001b[0m             no_project \u001b[39m=\u001b[39m \u001b[39mTrue\u001b[39;00m\n\u001b[1;32m    170\u001b[0m             project \u001b[39m=\u001b[39m \u001b[39m\"\u001b[39m\u001b[39m<none>\u001b[39m\u001b[39m\"\u001b[39m\n\u001b[0;32m--> 172\u001b[0m \u001b[39msuper\u001b[39;49m(Client, \u001b[39mself\u001b[39;49m)\u001b[39m.\u001b[39;49m\u001b[39m__init__\u001b[39;49m(\n\u001b[1;32m    173\u001b[0m     project\u001b[39m=\u001b[39;49mproject,\n\u001b[1;32m    174\u001b[0m     credentials\u001b[39m=\u001b[39;49mcredentials,\n\u001b[1;32m    175\u001b[0m     client_options\u001b[39m=\u001b[39;49mclient_options,\n\u001b[1;32m    176\u001b[0m     _http\u001b[39m=\u001b[39;49m_http,\n\u001b[1;32m    177\u001b[0m )\n\u001b[1;32m    179\u001b[0m \u001b[39mif\u001b[39;00m no_project:\n\u001b[1;32m    180\u001b[0m     \u001b[39mself\u001b[39m\u001b[39m.\u001b[39mproject \u001b[39m=\u001b[39m \u001b[39mNone\u001b[39;00m\n",
      "File \u001b[0;32m/opt/homebrew/lib/python3.11/site-packages/google/cloud/client/__init__.py:320\u001b[0m, in \u001b[0;36mClientWithProject.__init__\u001b[0;34m(self, project, credentials, client_options, _http)\u001b[0m\n\u001b[1;32m    319\u001b[0m \u001b[39mdef\u001b[39;00m \u001b[39m__init__\u001b[39m(\u001b[39mself\u001b[39m, project\u001b[39m=\u001b[39m\u001b[39mNone\u001b[39;00m, credentials\u001b[39m=\u001b[39m\u001b[39mNone\u001b[39;00m, client_options\u001b[39m=\u001b[39m\u001b[39mNone\u001b[39;00m, _http\u001b[39m=\u001b[39m\u001b[39mNone\u001b[39;00m):\n\u001b[0;32m--> 320\u001b[0m     _ClientProjectMixin\u001b[39m.\u001b[39;49m\u001b[39m__init__\u001b[39;49m(\u001b[39mself\u001b[39;49m, project\u001b[39m=\u001b[39;49mproject, credentials\u001b[39m=\u001b[39;49mcredentials)\n\u001b[1;32m    321\u001b[0m     Client\u001b[39m.\u001b[39m\u001b[39m__init__\u001b[39m(\n\u001b[1;32m    322\u001b[0m         \u001b[39mself\u001b[39m, credentials\u001b[39m=\u001b[39mcredentials, client_options\u001b[39m=\u001b[39mclient_options, _http\u001b[39m=\u001b[39m_http\n\u001b[1;32m    323\u001b[0m     )\n",
      "File \u001b[0;32m/opt/homebrew/lib/python3.11/site-packages/google/cloud/client/__init__.py:268\u001b[0m, in \u001b[0;36m_ClientProjectMixin.__init__\u001b[0;34m(self, project, credentials)\u001b[0m\n\u001b[1;32m    265\u001b[0m     project \u001b[39m=\u001b[39m \u001b[39mgetattr\u001b[39m(credentials, \u001b[39m\"\u001b[39m\u001b[39mproject_id\u001b[39m\u001b[39m\"\u001b[39m, \u001b[39mNone\u001b[39;00m)\n\u001b[1;32m    267\u001b[0m \u001b[39mif\u001b[39;00m project \u001b[39mis\u001b[39;00m \u001b[39mNone\u001b[39;00m:\n\u001b[0;32m--> 268\u001b[0m     project \u001b[39m=\u001b[39m \u001b[39mself\u001b[39;49m\u001b[39m.\u001b[39;49m_determine_default(project)\n\u001b[1;32m    270\u001b[0m \u001b[39mif\u001b[39;00m project \u001b[39mis\u001b[39;00m \u001b[39mNone\u001b[39;00m:\n\u001b[1;32m    271\u001b[0m     \u001b[39mraise\u001b[39;00m \u001b[39mEnvironmentError\u001b[39;00m(\n\u001b[1;32m    272\u001b[0m         \u001b[39m\"\u001b[39m\u001b[39mProject was not passed and could not be \u001b[39m\u001b[39m\"\u001b[39m\n\u001b[1;32m    273\u001b[0m         \u001b[39m\"\u001b[39m\u001b[39mdetermined from the environment.\u001b[39m\u001b[39m\"\u001b[39m\n\u001b[1;32m    274\u001b[0m     )\n",
      "File \u001b[0;32m/opt/homebrew/lib/python3.11/site-packages/google/cloud/client/__init__.py:287\u001b[0m, in \u001b[0;36m_ClientProjectMixin._determine_default\u001b[0;34m(project)\u001b[0m\n\u001b[1;32m    284\u001b[0m \u001b[39m@staticmethod\u001b[39m\n\u001b[1;32m    285\u001b[0m \u001b[39mdef\u001b[39;00m \u001b[39m_determine_default\u001b[39m(project):\n\u001b[1;32m    286\u001b[0m \u001b[39m    \u001b[39m\u001b[39m\"\"\"Helper:  use default project detection.\"\"\"\u001b[39;00m\n\u001b[0;32m--> 287\u001b[0m     \u001b[39mreturn\u001b[39;00m _determine_default_project(project)\n",
      "File \u001b[0;32m/opt/homebrew/lib/python3.11/site-packages/google/cloud/_helpers/__init__.py:152\u001b[0m, in \u001b[0;36m_determine_default_project\u001b[0;34m(project)\u001b[0m\n\u001b[1;32m    140\u001b[0m \u001b[39m\u001b[39m\u001b[39m\"\"\"Determine default project ID explicitly or implicitly as fall-back.\u001b[39;00m\n\u001b[1;32m    141\u001b[0m \n\u001b[1;32m    142\u001b[0m \u001b[39mSee :func:`google.auth.default` for details on how the default project\u001b[39;00m\n\u001b[0;32m   (...)\u001b[0m\n\u001b[1;32m    149\u001b[0m \u001b[39m:returns: Default project if it can be determined.\u001b[39;00m\n\u001b[1;32m    150\u001b[0m \u001b[39m\"\"\"\u001b[39;00m\n\u001b[1;32m    151\u001b[0m \u001b[39mif\u001b[39;00m project \u001b[39mis\u001b[39;00m \u001b[39mNone\u001b[39;00m:\n\u001b[0;32m--> 152\u001b[0m     _, project \u001b[39m=\u001b[39m google\u001b[39m.\u001b[39;49mauth\u001b[39m.\u001b[39;49mdefault()\n\u001b[1;32m    153\u001b[0m \u001b[39mreturn\u001b[39;00m project\n",
      "File \u001b[0;32m/opt/homebrew/lib/python3.11/site-packages/google/auth/_default.py:691\u001b[0m, in \u001b[0;36mdefault\u001b[0;34m(scopes, request, quota_project_id, default_scopes)\u001b[0m\n\u001b[1;32m    683\u001b[0m             _LOGGER\u001b[39m.\u001b[39mwarning(\n\u001b[1;32m    684\u001b[0m                 \u001b[39m\"\u001b[39m\u001b[39mNo project ID could be determined. Consider running \u001b[39m\u001b[39m\"\u001b[39m\n\u001b[1;32m    685\u001b[0m                 \u001b[39m\"\u001b[39m\u001b[39m`gcloud config set project` or setting the \u001b[39m\u001b[39m%s\u001b[39;00m\u001b[39m \u001b[39m\u001b[39m\"\u001b[39m\n\u001b[1;32m    686\u001b[0m                 \u001b[39m\"\u001b[39m\u001b[39menvironment variable\u001b[39m\u001b[39m\"\u001b[39m,\n\u001b[1;32m    687\u001b[0m                 environment_vars\u001b[39m.\u001b[39mPROJECT,\n\u001b[1;32m    688\u001b[0m             )\n\u001b[1;32m    689\u001b[0m         \u001b[39mreturn\u001b[39;00m credentials, effective_project_id\n\u001b[0;32m--> 691\u001b[0m \u001b[39mraise\u001b[39;00m exceptions\u001b[39m.\u001b[39mDefaultCredentialsError(_CLOUD_SDK_MISSING_CREDENTIALS)\n",
      "\u001b[0;31mDefaultCredentialsError\u001b[0m: Your default credentials were not found. To set up Application Default Credentials, see https://cloud.google.com/docs/authentication/external/set-up-adc for more information."
     ]
    }
   ],
   "source": [
    "from sentence_transformers import SentenceTransformer\n",
    "from google.cloud import storage\n",
    "import os\n",
    "\n",
    "def load_model_from_gcs(gcs_bucket, gcs_model_path):\n",
    "    # Set up GCS client\n",
    "    client = storage.Client()\n",
    "\n",
    "    # Get a reference to the GCS bucket\n",
    "    bucket = client.get_bucket(gcs_bucket)\n",
    "\n",
    "    # Download the model files to a temporary directory\n",
    "    local_cache_path = \"/tmp/sentence_transformer_model\"\n",
    "    os.makedirs(local_cache_path, exist_ok=True)\n",
    "\n",
    "    blob = bucket.blob(gcs_model_path)\n",
    "    blob.download_to_filename(os.path.join(local_cache_path, \"config.json\"))\n",
    "    blob.download_to_filename(os.path.join(local_cache_path, \"modules.json\"))\n",
    "    blob.download_to_filename(os.path.join(local_cache_path, \"pytorch_model.bin\"))\n",
    "\n",
    "    # Load the Sentence Transformer model from the local cache\n",
    "    model = SentenceTransformer(local_cache_path)\n",
    "\n",
    "    return model\n",
    "\n",
    "# Example usage\n",
    "loaded_model = load_model_from_gcs(\"rezi-ai-models\", \"rezi-ai-models/exp-key-relevance_msmarco_sentence_transformer/sentence-transformers_msmarco-MiniLM-L6-cos-v5\")\n"
   ]
  },
  {
   "cell_type": "code",
   "execution_count": 1,
   "metadata": {},
   "outputs": [
    {
     "name": "stdout",
     "output_type": "stream",
     "text": [
      "The cat are chasing the mouse\n"
     ]
    }
   ],
   "source": [
    "import nltk\n",
    "from nltk.stem import WordNetLemmatizer\n",
    "from nltk.tokenize import word_tokenize\n",
    "\n",
    "# Initialize the lemmatizer\n",
    "lemmatizer = WordNetLemmatizer()\n",
    "\n",
    "# Assume sentence is your input sentence\n",
    "sentence = \"The cats are chasing the mice\"\n",
    "\n",
    "# Tokenize the sentence into words\n",
    "words = word_tokenize(sentence)\n",
    "\n",
    "# Lemmatize each word\n",
    "lemmatized_words = [lemmatizer.lemmatize(word) for word in words]\n",
    "\n",
    "# Join the lemmatized words back into a sentence\n",
    "lemmatized_sentence = ' '.join(lemmatized_words)\n",
    "\n",
    "print(lemmatized_sentence)  # Output: \"The cat are chasing the mouse\""
   ]
  },
  {
   "cell_type": "code",
   "execution_count": 9,
   "metadata": {},
   "outputs": [
    {
     "data": {
      "text/plain": [
       "['conduct',\n",
       " 'anti',\n",
       " '-CD44',\n",
       " 'immunocytochemistry',\n",
       " 'on',\n",
       " 'ovarian',\n",
       " 'csc',\n",
       " 'and',\n",
       " 'bulk',\n",
       " 'cancer',\n",
       " 'cell',\n",
       " 'to',\n",
       " 'compare',\n",
       " 'degree',\n",
       " 'of',\n",
       " 'expression',\n",
       " 'of',\n",
       " 'CD44',\n",
       " 'biomarker',\n",
       " '.']"
      ]
     },
     "execution_count": 9,
     "metadata": {},
     "output_type": "execute_result"
    }
   ],
   "source": [
    "import spacy\n",
    "nlp = spacy.load(\"en_core_web_sm\")\n",
    "def lemma(text):\n",
    "    # to remove_stop_words\n",
    "    doc = nlp(text)\n",
    "    lemmas = [token.lemma_ for token in doc]\n",
    "    return lemmas\n",
    "lemma(\"Conducted anti -CD44 immunocytochemistry on ovarian CSCs and bulk cancer cells to compare degrees of expression of CD44 biomarker.\")\n"
   ]
  },
  {
   "cell_type": "code",
   "execution_count": null,
   "metadata": {},
   "outputs": [],
   "source": []
  }
 ],
 "metadata": {
  "kernelspec": {
   "display_name": "Python 3",
   "language": "python",
   "name": "python3"
  },
  "language_info": {
   "codemirror_mode": {
    "name": "ipython",
    "version": 3
   },
   "file_extension": ".py",
   "mimetype": "text/x-python",
   "name": "python",
   "nbconvert_exporter": "python",
   "pygments_lexer": "ipython3",
   "version": "3.11.5"
  },
  "orig_nbformat": 4
 },
 "nbformat": 4,
 "nbformat_minor": 2
}
